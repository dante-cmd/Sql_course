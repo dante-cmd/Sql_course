{
 "cells": [
  {
   "cell_type": "markdown",
   "metadata": {},
   "source": [
    "# T-SQL\n",
    "\n",
    "All tools and application that communicate with a SQL server databases do so by sending T-SQL commands\n",
    "\n",
    "Since exists multiple versions of products that use T-SQL, its very important to know which one you are using and if this commnads apply to this version of the product."
   ]
  },
  {
   "cell_type": "markdown",
   "metadata": {},
   "source": [
    "`LIKE`"
   ]
  }
 ],
 "metadata": {
  "language_info": {
   "name": "python"
  }
 },
 "nbformat": 4,
 "nbformat_minor": 2
}
