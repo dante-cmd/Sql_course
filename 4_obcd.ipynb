{
 "cells": [
  {
   "cell_type": "markdown",
   "metadata": {},
   "source": [
    "# ODBC\n",
    "\n",
    "It stand for Open DataBase Connectivity.\n",
    "\n",
    "It is API for accessing database system.\n",
    "\n",
    "Each Database system has it's own ODBC driver.\n",
    "\n",
    "For Java based appications (JDBC) we use ODBC driver for similar purposes."
   ]
  },
  {
   "cell_type": "markdown",
   "metadata": {},
   "source": [
    "Database systems such as Oracle, SQL Server, MySQL, etc. all have databases engines and GUI, but essentially separate products.\n",
    "\n",
    "You can install the database engine, without installing the GUI and this is where ODBC comes in.\n",
    "\n",
    "\n",
    "Database Server $\\Longleftrightarrow$ ODBC Driver $\\Longleftrightarrow$ Programming Interface (R, Python, C, etc.)\n",
    "\n",
    "More information on ODBC in https://www.youtube.com/watch?v=VkMXJvaWeTE\n"
   ]
  }
 ],
 "metadata": {
  "kernelspec": {
   "display_name": "base",
   "language": "python",
   "name": "python3"
  },
  "language_info": {
   "name": "python",
   "version": "3.11.7"
  }
 },
 "nbformat": 4,
 "nbformat_minor": 2
}
